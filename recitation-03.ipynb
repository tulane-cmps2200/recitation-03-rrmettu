{
 "cells": [
  {
   "cell_type": "markdown",
   "metadata": {},
   "source": [
    "You were recently hired by Netflix to work on their movie recommendation algorithm. A key part of the algorithm  works by comparing two users' movie ratings to determine how similar the users are. For example, to find users similar to Mary, we start by having Mary rank all her movies. Then, for another user Joe, we look at Joe's rankings and count how often his pairwise rankings disagree with Mary's:\n",
    "\n",
    "|      |Beetlejuice|Batman|Jackie Brown|Mr. Mom| Multiplicity|\n",
    "|------|-----------|---|---|---|---|\n",
    "| Mary | 1 | 2 | 3 | 4 | 5 | ...|\n",
    "| Joe  | 1 | **3** | **4** | **2** | 5 | ...|\n",
    "\n",
    "Here, Joe (somehow) liked *Mr. Mom* more than *Batman* and *Jackie Brown*, so the number of disagreements is 2: $\\:\\:3 \\leftrightarrow 2, 4 \\leftrightarrow 2$. More formally, a disagreement occurs for indices $(i,j)$ when $j > i$ and $value[j] < value[i]$.\n",
    "\n",
    "When you arrived at Netflix, you were shocked (shocked!) to see that they were using this $O(n^2)$ algorithm to solve the problem:"
   ]
  },
  {
   "cell_type": "code",
   "execution_count": 1,
   "metadata": {},
   "outputs": [
    {
     "data": {
      "text/plain": [
       "2"
      ]
     },
     "execution_count": 1,
     "metadata": {},
     "output_type": "execute_result"
    }
   ],
   "source": [
    "def num_disagreements_slow(ranks):\n",
    "    \"\"\"\n",
    "    Params:\n",
    "      ranks...list of ints for a user's move rankings (e.g., Joe in the example above)\n",
    "    Returns:\n",
    "      number of pairwise disagreements\n",
    "    \"\"\"\n",
    "    count = 0\n",
    "    for i, vi in enumerate(ranks):\n",
    "        for j, vj in enumerate(ranks[i:]):\n",
    "            if vj < vi:\n",
    "                count += 1\n",
    "    return count\n",
    "\n",
    "num_disagreements_slow([1,3,4,2,5])"
   ]
  },
  {
   "cell_type": "markdown",
   "metadata": {},
   "source": [
    "Armed with your CMPS 2200 knowledge, you quickly threw together this recursive algorithm that you claim is both more efficient and easier to run on the giant parallel processing cluster Netflix has."
   ]
  },
  {
   "cell_type": "code",
   "execution_count": 19,
   "metadata": {},
   "outputs": [
    {
     "name": "stdout",
     "output_type": "stream",
     "text": [
      "combine: input=([4], [2, 5]) returns=(1, [2, 4, 5])\n",
      "combine: input=([1, 3], [2, 4, 5]) returns=(1, [1, 2, 3, 4, 5])\n"
     ]
    },
    {
     "data": {
      "text/plain": [
       "(2, [1, 2, 3, 4, 5])"
      ]
     },
     "execution_count": 19,
     "metadata": {},
     "output_type": "execute_result"
    }
   ],
   "source": [
    "def num_disagreements_fast(ranks):\n",
    "    # base cases\n",
    "    if len(ranks) <= 1:\n",
    "        return (0, ranks)\n",
    "    elif len(ranks) == 2:\n",
    "        if ranks[1] < ranks[0]:\n",
    "            return (1, [ranks[1], ranks[0]])  # found a disagreement\n",
    "        else:\n",
    "            return (0, ranks)\n",
    "    # recursion\n",
    "    else:\n",
    "        left_disagreements, left_ranks = num_disagreements_fast(ranks[:len(ranks)//2])\n",
    "        right_disagreements, right_ranks = num_disagreements_fast(ranks[len(ranks)//2:])\n",
    "        \n",
    "        combined_disagreements, combined_ranks = combine(left_ranks, right_ranks)\n",
    "\n",
    "        return (left_disagreements + right_disagreements + combined_disagreements,\n",
    "                combined_ranks)\n",
    "\n",
    "def combine(left_ranks, right_ranks):\n",
    "    i = j = 0\n",
    "    result = []\n",
    "    n_disagreements = 0\n",
    "    while i < len(left_ranks) and j < len(right_ranks):\n",
    "        if right_ranks[j] < left_ranks[i]: \n",
    "            n_disagreements += len(left_ranks[i:])   # found some disagreements\n",
    "            result.append(right_ranks[j])\n",
    "            j += 1\n",
    "        else:\n",
    "            result.append(left_ranks[i])\n",
    "            i += 1\n",
    "    \n",
    "    result.extend(left_ranks[i:])\n",
    "    result.extend(right_ranks[j:])\n",
    "    print('combine: input=(%s, %s) returns=(%s, %s)' % \n",
    "          (left_ranks, right_ranks, n_disagreements, result))\n",
    "    return n_disagreements, result\n",
    "\n",
    "num_disagreements_fast([1,3,4,2,5])"
   ]
  },
  {
   "cell_type": "markdown",
   "metadata": {},
   "source": [
    "As so often happens, your boss demands theoretical proof that this will be faster than their existing algorithm. To do so, complete the following:\n",
    "\n",
    "a) Describe, in your own words, what the `combine` method is doing and what it returns.\n",
    "\n",
    "\n",
    "b) Write the work recurrence formula for `num_disagreements_fast`.\n",
    "\n",
    "\n",
    "\n",
    "\n",
    "\n",
    "\n",
    "c) Solve this recurrence using any method you like.\n",
    "\n",
    "d) Assuming that your recursive calls to `num_disagreements_fast` are done in parallel, write the span recurrence for your algorithm.\n",
    "\n",
    "e) Solve this recurrence using any method you like.\n",
    "\n",
    "f) If `ranks` is a list of size $n$, Netflix says it will give you $\\lg n$ processors to run your algorithm in parallel. What is the upper bound on the runtime $T_{\\lg n}$. (Hint: assume a Greedy Scheduler)."
   ]
  }
 ],
 "metadata": {
  "kernelspec": {
   "display_name": "Python 3",
   "language": "python",
   "name": "python3"
  },
  "language_info": {
   "codemirror_mode": {
    "name": "ipython",
    "version": 3
   },
   "file_extension": ".py",
   "mimetype": "text/x-python",
   "name": "python",
   "nbconvert_exporter": "python",
   "pygments_lexer": "ipython3",
   "version": "3.7.3"
  }
 },
 "nbformat": 4,
 "nbformat_minor": 4
}
